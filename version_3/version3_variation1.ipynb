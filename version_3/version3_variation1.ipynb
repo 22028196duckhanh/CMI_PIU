{
 "cells": [
  {
   "cell_type": "code",
   "execution_count": 1,
   "id": "43cfae26",
   "metadata": {
    "_cell_guid": "b1076dfc-b9ad-4769-8c92-a6c4dae69d19",
    "_uuid": "8f2839f25d086af736a60e9eeb907d3b93b6e0e5",
    "execution": {
     "iopub.execute_input": "2024-12-22T04:58:28.912998Z",
     "iopub.status.busy": "2024-12-22T04:58:28.911848Z",
     "iopub.status.idle": "2024-12-22T04:58:34.229013Z",
     "shell.execute_reply": "2024-12-22T04:58:34.228289Z"
    },
    "papermill": {
     "duration": 5.328829,
     "end_time": "2024-12-22T04:58:34.230972",
     "exception": false,
     "start_time": "2024-12-22T04:58:28.902143",
     "status": "completed"
    },
    "tags": []
   },
   "outputs": [],
   "source": [
    "import pandas as pd\n",
    "import numpy as np\n",
    "import matplotlib.pyplot as plt\n",
    "\n",
    "import seaborn as sns\n",
    "import polars as pl\n",
    "import warnings\n",
    "import os\n",
    "\n",
    "from sklearn.base import clone\n",
    "from tqdm import tqdm\n",
    "from sklearn.metrics import cohen_kappa_score\n",
    "from sklearn.model_selection import StratifiedKFold\n",
    "from scipy.optimize import minimize\n",
    "from lightgbm import LGBMRegressor\n",
    "from xgboost import XGBRegressor\n",
    "from catboost import CatBoostRegressor\n",
    "from sklearn.ensemble import VotingRegressor, RandomForestRegressor, GradientBoostingRegressor\n",
    "\n",
    "from IPython.display import clear_output\n",
    "from colorama import Fore, Style\n",
    "import lightgbm as lgb\n",
    "\n",
    "warnings.filterwarnings('ignore', category=FutureWarning)\n",
    "sns.set(style=\"whitegrid\")\n",
    "%matplotlib inline\n",
    "\n",
    "SEED = 100\n",
    "n_splits = 6"
   ]
  },
  {
   "cell_type": "markdown",
   "id": "9602d009",
   "metadata": {
    "papermill": {
     "duration": 0.005946,
     "end_time": "2024-12-22T04:58:34.244222",
     "exception": false,
     "start_time": "2024-12-22T04:58:34.238276",
     "status": "completed"
    },
    "tags": []
   },
   "source": [
    "## Data Processing"
   ]
  },
  {
   "cell_type": "markdown",
   "id": "2181ad73",
   "metadata": {
    "papermill": {
     "duration": 0.008132,
     "end_time": "2024-12-22T04:58:34.260310",
     "exception": false,
     "start_time": "2024-12-22T04:58:34.252178",
     "status": "completed"
    },
    "tags": []
   },
   "source": [
    "### Overview"
   ]
  },
  {
   "cell_type": "code",
   "execution_count": 2,
   "id": "3f66f51d",
   "metadata": {
    "execution": {
     "iopub.execute_input": "2024-12-22T04:58:34.275827Z",
     "iopub.status.busy": "2024-12-22T04:58:34.275190Z",
     "iopub.status.idle": "2024-12-22T04:58:34.367750Z",
     "shell.execute_reply": "2024-12-22T04:58:34.366911Z"
    },
    "papermill": {
     "duration": 0.103016,
     "end_time": "2024-12-22T04:58:34.369748",
     "exception": false,
     "start_time": "2024-12-22T04:58:34.266732",
     "status": "completed"
    },
    "tags": []
   },
   "outputs": [],
   "source": [
    "train = pd.read_csv('/kaggle/input/child-mind-institute-problematic-internet-use/train.csv')\n",
    "test = pd.read_csv('/kaggle/input/child-mind-institute-problematic-internet-use/test.csv')\n",
    "sample = pd.read_csv('/kaggle/input/child-mind-institute-problematic-internet-use/sample_submission.csv')\n",
    "data_dictionary = pd.read_csv('/kaggle/input/child-mind-institute-problematic-internet-use/data_dictionary.csv')"
   ]
  },
  {
   "cell_type": "code",
   "execution_count": 3,
   "id": "7c04d890",
   "metadata": {
    "execution": {
     "iopub.execute_input": "2024-12-22T04:58:34.381973Z",
     "iopub.status.busy": "2024-12-22T04:58:34.381636Z",
     "iopub.status.idle": "2024-12-22T04:58:34.418357Z",
     "shell.execute_reply": "2024-12-22T04:58:34.417490Z"
    },
    "papermill": {
     "duration": 0.044475,
     "end_time": "2024-12-22T04:58:34.419879",
     "exception": false,
     "start_time": "2024-12-22T04:58:34.375404",
     "status": "completed"
    },
    "tags": []
   },
   "outputs": [
    {
     "name": "stdout",
     "output_type": "stream",
     "text": [
      "Train shape: (3960, 82)\n"
     ]
    },
    {
     "data": {
      "text/html": [
       "<div>\n",
       "<style scoped>\n",
       "    .dataframe tbody tr th:only-of-type {\n",
       "        vertical-align: middle;\n",
       "    }\n",
       "\n",
       "    .dataframe tbody tr th {\n",
       "        vertical-align: top;\n",
       "    }\n",
       "\n",
       "    .dataframe thead th {\n",
       "        text-align: right;\n",
       "    }\n",
       "</style>\n",
       "<table border=\"1\" class=\"dataframe\">\n",
       "  <thead>\n",
       "    <tr style=\"text-align: right;\">\n",
       "      <th></th>\n",
       "      <th>id</th>\n",
       "      <th>Basic_Demos-Enroll_Season</th>\n",
       "      <th>Basic_Demos-Age</th>\n",
       "      <th>Basic_Demos-Sex</th>\n",
       "      <th>CGAS-Season</th>\n",
       "      <th>CGAS-CGAS_Score</th>\n",
       "      <th>Physical-Season</th>\n",
       "      <th>Physical-BMI</th>\n",
       "      <th>Physical-Height</th>\n",
       "      <th>Physical-Weight</th>\n",
       "      <th>...</th>\n",
       "      <th>PCIAT-PCIAT_18</th>\n",
       "      <th>PCIAT-PCIAT_19</th>\n",
       "      <th>PCIAT-PCIAT_20</th>\n",
       "      <th>PCIAT-PCIAT_Total</th>\n",
       "      <th>SDS-Season</th>\n",
       "      <th>SDS-SDS_Total_Raw</th>\n",
       "      <th>SDS-SDS_Total_T</th>\n",
       "      <th>PreInt_EduHx-Season</th>\n",
       "      <th>PreInt_EduHx-computerinternet_hoursday</th>\n",
       "      <th>sii</th>\n",
       "    </tr>\n",
       "  </thead>\n",
       "  <tbody>\n",
       "    <tr>\n",
       "      <th>0</th>\n",
       "      <td>00008ff9</td>\n",
       "      <td>Fall</td>\n",
       "      <td>5</td>\n",
       "      <td>0</td>\n",
       "      <td>Winter</td>\n",
       "      <td>51.0</td>\n",
       "      <td>Fall</td>\n",
       "      <td>16.877316</td>\n",
       "      <td>46.0</td>\n",
       "      <td>50.8</td>\n",
       "      <td>...</td>\n",
       "      <td>4.0</td>\n",
       "      <td>2.0</td>\n",
       "      <td>4.0</td>\n",
       "      <td>55.0</td>\n",
       "      <td>NaN</td>\n",
       "      <td>NaN</td>\n",
       "      <td>NaN</td>\n",
       "      <td>Fall</td>\n",
       "      <td>3.0</td>\n",
       "      <td>2.0</td>\n",
       "    </tr>\n",
       "    <tr>\n",
       "      <th>1</th>\n",
       "      <td>000fd460</td>\n",
       "      <td>Summer</td>\n",
       "      <td>9</td>\n",
       "      <td>0</td>\n",
       "      <td>NaN</td>\n",
       "      <td>NaN</td>\n",
       "      <td>Fall</td>\n",
       "      <td>14.035590</td>\n",
       "      <td>48.0</td>\n",
       "      <td>46.0</td>\n",
       "      <td>...</td>\n",
       "      <td>0.0</td>\n",
       "      <td>0.0</td>\n",
       "      <td>0.0</td>\n",
       "      <td>0.0</td>\n",
       "      <td>Fall</td>\n",
       "      <td>46.0</td>\n",
       "      <td>64.0</td>\n",
       "      <td>Summer</td>\n",
       "      <td>0.0</td>\n",
       "      <td>0.0</td>\n",
       "    </tr>\n",
       "    <tr>\n",
       "      <th>2</th>\n",
       "      <td>00105258</td>\n",
       "      <td>Summer</td>\n",
       "      <td>10</td>\n",
       "      <td>1</td>\n",
       "      <td>Fall</td>\n",
       "      <td>71.0</td>\n",
       "      <td>Fall</td>\n",
       "      <td>16.648696</td>\n",
       "      <td>56.5</td>\n",
       "      <td>75.6</td>\n",
       "      <td>...</td>\n",
       "      <td>2.0</td>\n",
       "      <td>1.0</td>\n",
       "      <td>1.0</td>\n",
       "      <td>28.0</td>\n",
       "      <td>Fall</td>\n",
       "      <td>38.0</td>\n",
       "      <td>54.0</td>\n",
       "      <td>Summer</td>\n",
       "      <td>2.0</td>\n",
       "      <td>0.0</td>\n",
       "    </tr>\n",
       "    <tr>\n",
       "      <th>3</th>\n",
       "      <td>00115b9f</td>\n",
       "      <td>Winter</td>\n",
       "      <td>9</td>\n",
       "      <td>0</td>\n",
       "      <td>Fall</td>\n",
       "      <td>71.0</td>\n",
       "      <td>Summer</td>\n",
       "      <td>18.292347</td>\n",
       "      <td>56.0</td>\n",
       "      <td>81.6</td>\n",
       "      <td>...</td>\n",
       "      <td>3.0</td>\n",
       "      <td>4.0</td>\n",
       "      <td>1.0</td>\n",
       "      <td>44.0</td>\n",
       "      <td>Summer</td>\n",
       "      <td>31.0</td>\n",
       "      <td>45.0</td>\n",
       "      <td>Winter</td>\n",
       "      <td>0.0</td>\n",
       "      <td>1.0</td>\n",
       "    </tr>\n",
       "    <tr>\n",
       "      <th>4</th>\n",
       "      <td>0016bb22</td>\n",
       "      <td>Spring</td>\n",
       "      <td>18</td>\n",
       "      <td>1</td>\n",
       "      <td>Summer</td>\n",
       "      <td>NaN</td>\n",
       "      <td>NaN</td>\n",
       "      <td>NaN</td>\n",
       "      <td>NaN</td>\n",
       "      <td>NaN</td>\n",
       "      <td>...</td>\n",
       "      <td>NaN</td>\n",
       "      <td>NaN</td>\n",
       "      <td>NaN</td>\n",
       "      <td>NaN</td>\n",
       "      <td>NaN</td>\n",
       "      <td>NaN</td>\n",
       "      <td>NaN</td>\n",
       "      <td>NaN</td>\n",
       "      <td>NaN</td>\n",
       "      <td>NaN</td>\n",
       "    </tr>\n",
       "  </tbody>\n",
       "</table>\n",
       "<p>5 rows × 82 columns</p>\n",
       "</div>"
      ],
      "text/plain": [
       "         id Basic_Demos-Enroll_Season  Basic_Demos-Age  Basic_Demos-Sex  \\\n",
       "0  00008ff9                      Fall                5                0   \n",
       "1  000fd460                    Summer                9                0   \n",
       "2  00105258                    Summer               10                1   \n",
       "3  00115b9f                    Winter                9                0   \n",
       "4  0016bb22                    Spring               18                1   \n",
       "\n",
       "  CGAS-Season  CGAS-CGAS_Score Physical-Season  Physical-BMI  Physical-Height  \\\n",
       "0      Winter             51.0            Fall     16.877316             46.0   \n",
       "1         NaN              NaN            Fall     14.035590             48.0   \n",
       "2        Fall             71.0            Fall     16.648696             56.5   \n",
       "3        Fall             71.0          Summer     18.292347             56.0   \n",
       "4      Summer              NaN             NaN           NaN              NaN   \n",
       "\n",
       "   Physical-Weight  ...  PCIAT-PCIAT_18  PCIAT-PCIAT_19  PCIAT-PCIAT_20  \\\n",
       "0             50.8  ...             4.0             2.0             4.0   \n",
       "1             46.0  ...             0.0             0.0             0.0   \n",
       "2             75.6  ...             2.0             1.0             1.0   \n",
       "3             81.6  ...             3.0             4.0             1.0   \n",
       "4              NaN  ...             NaN             NaN             NaN   \n",
       "\n",
       "   PCIAT-PCIAT_Total SDS-Season  SDS-SDS_Total_Raw  SDS-SDS_Total_T  \\\n",
       "0               55.0        NaN                NaN              NaN   \n",
       "1                0.0       Fall               46.0             64.0   \n",
       "2               28.0       Fall               38.0             54.0   \n",
       "3               44.0     Summer               31.0             45.0   \n",
       "4                NaN        NaN                NaN              NaN   \n",
       "\n",
       "   PreInt_EduHx-Season PreInt_EduHx-computerinternet_hoursday  sii  \n",
       "0                 Fall                                    3.0  2.0  \n",
       "1               Summer                                    0.0  0.0  \n",
       "2               Summer                                    2.0  0.0  \n",
       "3               Winter                                    0.0  1.0  \n",
       "4                  NaN                                    NaN  NaN  \n",
       "\n",
       "[5 rows x 82 columns]"
      ]
     },
     "execution_count": 3,
     "metadata": {},
     "output_type": "execute_result"
    }
   ],
   "source": [
    "print(f\"Train shape: {train.shape}\")\n",
    "train.head()"
   ]
  },
  {
   "cell_type": "code",
   "execution_count": 4,
   "id": "414cf9af",
   "metadata": {
    "execution": {
     "iopub.execute_input": "2024-12-22T04:58:34.431971Z",
     "iopub.status.busy": "2024-12-22T04:58:34.431707Z",
     "iopub.status.idle": "2024-12-22T04:58:34.451340Z",
     "shell.execute_reply": "2024-12-22T04:58:34.450393Z"
    },
    "papermill": {
     "duration": 0.027597,
     "end_time": "2024-12-22T04:58:34.453143",
     "exception": false,
     "start_time": "2024-12-22T04:58:34.425546",
     "status": "completed"
    },
    "tags": []
   },
   "outputs": [
    {
     "name": "stdout",
     "output_type": "stream",
     "text": [
      "Test shape: (20, 59)\n"
     ]
    },
    {
     "data": {
      "text/html": [
       "<div>\n",
       "<style scoped>\n",
       "    .dataframe tbody tr th:only-of-type {\n",
       "        vertical-align: middle;\n",
       "    }\n",
       "\n",
       "    .dataframe tbody tr th {\n",
       "        vertical-align: top;\n",
       "    }\n",
       "\n",
       "    .dataframe thead th {\n",
       "        text-align: right;\n",
       "    }\n",
       "</style>\n",
       "<table border=\"1\" class=\"dataframe\">\n",
       "  <thead>\n",
       "    <tr style=\"text-align: right;\">\n",
       "      <th></th>\n",
       "      <th>id</th>\n",
       "      <th>Basic_Demos-Enroll_Season</th>\n",
       "      <th>Basic_Demos-Age</th>\n",
       "      <th>Basic_Demos-Sex</th>\n",
       "      <th>CGAS-Season</th>\n",
       "      <th>CGAS-CGAS_Score</th>\n",
       "      <th>Physical-Season</th>\n",
       "      <th>Physical-BMI</th>\n",
       "      <th>Physical-Height</th>\n",
       "      <th>Physical-Weight</th>\n",
       "      <th>...</th>\n",
       "      <th>BIA-BIA_TBW</th>\n",
       "      <th>PAQ_A-Season</th>\n",
       "      <th>PAQ_A-PAQ_A_Total</th>\n",
       "      <th>PAQ_C-Season</th>\n",
       "      <th>PAQ_C-PAQ_C_Total</th>\n",
       "      <th>SDS-Season</th>\n",
       "      <th>SDS-SDS_Total_Raw</th>\n",
       "      <th>SDS-SDS_Total_T</th>\n",
       "      <th>PreInt_EduHx-Season</th>\n",
       "      <th>PreInt_EduHx-computerinternet_hoursday</th>\n",
       "    </tr>\n",
       "  </thead>\n",
       "  <tbody>\n",
       "    <tr>\n",
       "      <th>0</th>\n",
       "      <td>00008ff9</td>\n",
       "      <td>Fall</td>\n",
       "      <td>5</td>\n",
       "      <td>0</td>\n",
       "      <td>Winter</td>\n",
       "      <td>51.0</td>\n",
       "      <td>Fall</td>\n",
       "      <td>16.877316</td>\n",
       "      <td>46.0</td>\n",
       "      <td>50.8</td>\n",
       "      <td>...</td>\n",
       "      <td>32.6909</td>\n",
       "      <td>NaN</td>\n",
       "      <td>NaN</td>\n",
       "      <td>NaN</td>\n",
       "      <td>NaN</td>\n",
       "      <td>NaN</td>\n",
       "      <td>NaN</td>\n",
       "      <td>NaN</td>\n",
       "      <td>Fall</td>\n",
       "      <td>3.0</td>\n",
       "    </tr>\n",
       "    <tr>\n",
       "      <th>1</th>\n",
       "      <td>000fd460</td>\n",
       "      <td>Summer</td>\n",
       "      <td>9</td>\n",
       "      <td>0</td>\n",
       "      <td>NaN</td>\n",
       "      <td>NaN</td>\n",
       "      <td>Fall</td>\n",
       "      <td>14.035590</td>\n",
       "      <td>48.0</td>\n",
       "      <td>46.0</td>\n",
       "      <td>...</td>\n",
       "      <td>27.0552</td>\n",
       "      <td>NaN</td>\n",
       "      <td>NaN</td>\n",
       "      <td>Fall</td>\n",
       "      <td>2.340</td>\n",
       "      <td>Fall</td>\n",
       "      <td>46.0</td>\n",
       "      <td>64.0</td>\n",
       "      <td>Summer</td>\n",
       "      <td>0.0</td>\n",
       "    </tr>\n",
       "    <tr>\n",
       "      <th>2</th>\n",
       "      <td>00105258</td>\n",
       "      <td>Summer</td>\n",
       "      <td>10</td>\n",
       "      <td>1</td>\n",
       "      <td>Fall</td>\n",
       "      <td>71.0</td>\n",
       "      <td>Fall</td>\n",
       "      <td>16.648696</td>\n",
       "      <td>56.5</td>\n",
       "      <td>75.6</td>\n",
       "      <td>...</td>\n",
       "      <td>NaN</td>\n",
       "      <td>NaN</td>\n",
       "      <td>NaN</td>\n",
       "      <td>Summer</td>\n",
       "      <td>2.170</td>\n",
       "      <td>Fall</td>\n",
       "      <td>38.0</td>\n",
       "      <td>54.0</td>\n",
       "      <td>Summer</td>\n",
       "      <td>2.0</td>\n",
       "    </tr>\n",
       "    <tr>\n",
       "      <th>3</th>\n",
       "      <td>00115b9f</td>\n",
       "      <td>Winter</td>\n",
       "      <td>9</td>\n",
       "      <td>0</td>\n",
       "      <td>Fall</td>\n",
       "      <td>71.0</td>\n",
       "      <td>Summer</td>\n",
       "      <td>18.292347</td>\n",
       "      <td>56.0</td>\n",
       "      <td>81.6</td>\n",
       "      <td>...</td>\n",
       "      <td>45.9966</td>\n",
       "      <td>NaN</td>\n",
       "      <td>NaN</td>\n",
       "      <td>Winter</td>\n",
       "      <td>2.451</td>\n",
       "      <td>Summer</td>\n",
       "      <td>31.0</td>\n",
       "      <td>45.0</td>\n",
       "      <td>Winter</td>\n",
       "      <td>0.0</td>\n",
       "    </tr>\n",
       "    <tr>\n",
       "      <th>4</th>\n",
       "      <td>0016bb22</td>\n",
       "      <td>Spring</td>\n",
       "      <td>18</td>\n",
       "      <td>1</td>\n",
       "      <td>Summer</td>\n",
       "      <td>NaN</td>\n",
       "      <td>NaN</td>\n",
       "      <td>NaN</td>\n",
       "      <td>NaN</td>\n",
       "      <td>NaN</td>\n",
       "      <td>...</td>\n",
       "      <td>NaN</td>\n",
       "      <td>Summer</td>\n",
       "      <td>1.04</td>\n",
       "      <td>NaN</td>\n",
       "      <td>NaN</td>\n",
       "      <td>NaN</td>\n",
       "      <td>NaN</td>\n",
       "      <td>NaN</td>\n",
       "      <td>NaN</td>\n",
       "      <td>NaN</td>\n",
       "    </tr>\n",
       "  </tbody>\n",
       "</table>\n",
       "<p>5 rows × 59 columns</p>\n",
       "</div>"
      ],
      "text/plain": [
       "         id Basic_Demos-Enroll_Season  Basic_Demos-Age  Basic_Demos-Sex  \\\n",
       "0  00008ff9                      Fall                5                0   \n",
       "1  000fd460                    Summer                9                0   \n",
       "2  00105258                    Summer               10                1   \n",
       "3  00115b9f                    Winter                9                0   \n",
       "4  0016bb22                    Spring               18                1   \n",
       "\n",
       "  CGAS-Season  CGAS-CGAS_Score Physical-Season  Physical-BMI  Physical-Height  \\\n",
       "0      Winter             51.0            Fall     16.877316             46.0   \n",
       "1         NaN              NaN            Fall     14.035590             48.0   \n",
       "2        Fall             71.0            Fall     16.648696             56.5   \n",
       "3        Fall             71.0          Summer     18.292347             56.0   \n",
       "4      Summer              NaN             NaN           NaN              NaN   \n",
       "\n",
       "   Physical-Weight  ...  BIA-BIA_TBW  PAQ_A-Season  PAQ_A-PAQ_A_Total  \\\n",
       "0             50.8  ...      32.6909           NaN                NaN   \n",
       "1             46.0  ...      27.0552           NaN                NaN   \n",
       "2             75.6  ...          NaN           NaN                NaN   \n",
       "3             81.6  ...      45.9966           NaN                NaN   \n",
       "4              NaN  ...          NaN        Summer               1.04   \n",
       "\n",
       "   PAQ_C-Season PAQ_C-PAQ_C_Total  SDS-Season  SDS-SDS_Total_Raw  \\\n",
       "0           NaN               NaN         NaN                NaN   \n",
       "1          Fall             2.340        Fall               46.0   \n",
       "2        Summer             2.170        Fall               38.0   \n",
       "3        Winter             2.451      Summer               31.0   \n",
       "4           NaN               NaN         NaN                NaN   \n",
       "\n",
       "   SDS-SDS_Total_T PreInt_EduHx-Season  PreInt_EduHx-computerinternet_hoursday  \n",
       "0              NaN                Fall                                     3.0  \n",
       "1             64.0              Summer                                     0.0  \n",
       "2             54.0              Summer                                     2.0  \n",
       "3             45.0              Winter                                     0.0  \n",
       "4              NaN                 NaN                                     NaN  \n",
       "\n",
       "[5 rows x 59 columns]"
      ]
     },
     "execution_count": 4,
     "metadata": {},
     "output_type": "execute_result"
    }
   ],
   "source": [
    "print(f\"Test shape: {test.shape}\")\n",
    "test_ids = test['id']\n",
    "test.head()"
   ]
  },
  {
   "cell_type": "markdown",
   "id": "f123d6ae",
   "metadata": {
    "papermill": {
     "duration": 0.005733,
     "end_time": "2024-12-22T04:58:34.464748",
     "exception": false,
     "start_time": "2024-12-22T04:58:34.459015",
     "status": "completed"
    },
    "tags": []
   },
   "source": [
    "Age: `Basic_Demos-Age`\n",
    "\n",
    "Sex: `Basic_Demos-Sex`\n",
    "\n",
    "Internet Usage: `PreInt_EduHx-computerinternet_hoursday`\n",
    "\n",
    "CGAS score: `CGAS-CGAS_Score`    (đánh giá chức năng tổng quát của trẻ em, điểm càng thấp càng có vấn đề)\n",
    "\n",
    "Physical: `Physical-BMI`, `Physical-Height`, `Physical-Weight`, `Physical-Waist_Circumference`, `Physical-Diastolic_BP`, `Physical-HeartRate`, `Physical-Systolic_BP` (các thang đo sức khỏe vật lý) \n",
    "\n",
    "FGC: `Fitness_Endurance-Max_Stage`, `Fitness_Endurance-Time_Mins`, `Fitness_Endurance-Time_Sec`, `FGC-FGC_CU`, `FGC-FGC_CU_Zone`, `FGC-FGC_GSND`,\n",
    "       `FGC-FGC_GSND_Zone`, `FGC-FGC_GSD`, `FGC-FGC_GSD_Zone`, `FGC-FGC_PU`,\n",
    "       `FGC-FGC_PU_Zone`, `FGC-FGC_SRL`, `FGC-FGC_SRL_Zone`, `FGC-FGC_SRR`,\n",
    "       `FGC-FGC_SRR_Zone`, `FGC-FGC_TL`, `FGC-FGC_TL_Zone`\n",
    "       (các thang đo đánh giá tim mạch, sức mạnh cơ bắp, linh hoạt qua các bài kiểm tra sức bền thể chất)\n",
    "\n",
    "\n",
    "BIA:  'BIA-BIA_Activity_Level_num', 'BIA-BIA_BMC', 'BIA-BIA_BMI',\n",
    "       'BIA-BIA_BMR', 'BIA-BIA_DEE', 'BIA-BIA_ECW', 'BIA-BIA_FFM',\n",
    "       'BIA-BIA_FFMI', 'BIA-BIA_FMI', 'BIA-BIA_Fat', 'BIA-BIA_Frame_num',\n",
    "       'BIA-BIA_ICW', 'BIA-BIA_LDM', 'BIA-BIA_LST', 'BIA-BIA_SMM',\n",
    "       'BIA-BIA_TBW' (theo dõi các yếu tố thành phần cơ thể như nước, mỡ, cơ bắp)\n",
    "\n",
    "SDS: đánh giá rối loạn giấc ngủ ở trẻ\n",
    "\n",
    "PAQ: đánh giá mức độ tham gia các hoạt động thể chất trong 10 ngày gần nhất\n",
    "\n",
    "PCIAT: thang đo hành vi và đặc tính khi sử dụng Internet quá mức (gồm 20 câu hỏi)Age: `Basic_Demos-Age`"
   ]
  },
  {
   "cell_type": "markdown",
   "id": "729c0c86",
   "metadata": {
    "papermill": {
     "duration": 0.005581,
     "end_time": "2024-12-22T04:58:34.476192",
     "exception": false,
     "start_time": "2024-12-22T04:58:34.470611",
     "status": "completed"
    },
    "tags": []
   },
   "source": [
    "### Extract features from actigraphy (time-series data)"
   ]
  },
  {
   "cell_type": "code",
   "execution_count": 5,
   "id": "d225968a",
   "metadata": {
    "execution": {
     "iopub.execute_input": "2024-12-22T04:58:34.489061Z",
     "iopub.status.busy": "2024-12-22T04:58:34.488759Z",
     "iopub.status.idle": "2024-12-22T04:58:34.493881Z",
     "shell.execute_reply": "2024-12-22T04:58:34.493255Z"
    },
    "papermill": {
     "duration": 0.013505,
     "end_time": "2024-12-22T04:58:34.495424",
     "exception": false,
     "start_time": "2024-12-22T04:58:34.481919",
     "status": "completed"
    },
    "tags": []
   },
   "outputs": [],
   "source": [
    "def load_time_series(dirname):\n",
    "    ids = os.listdir(dirname)\n",
    "    indexes = []\n",
    "    stats = []\n",
    "    for idname in tqdm(ids):\n",
    "        df = pd.read_parquet(os.path.join(dirname, idname, 'part-0.parquet'))\n",
    "        df.drop('step', axis=1, inplace=True)\n",
    "        stats.append(df.describe().iloc[1:].values.reshape(-1))\n",
    "        indexes.append(idname.split('=')[1])\n",
    "    df = pd.DataFrame(stats, columns=[f\"stat_{i}\" for i in range(len(stats[0]))])\n",
    "    df['id'] = indexes\n",
    "    return df"
   ]
  },
  {
   "cell_type": "code",
   "execution_count": 6,
   "id": "9247d64e",
   "metadata": {
    "execution": {
     "iopub.execute_input": "2024-12-22T04:58:34.507985Z",
     "iopub.status.busy": "2024-12-22T04:58:34.507631Z",
     "iopub.status.idle": "2024-12-22T05:01:13.289315Z",
     "shell.execute_reply": "2024-12-22T05:01:13.288329Z"
    },
    "papermill": {
     "duration": 158.789977,
     "end_time": "2024-12-22T05:01:13.291147",
     "exception": false,
     "start_time": "2024-12-22T04:58:34.501170",
     "status": "completed"
    },
    "tags": []
   },
   "outputs": [
    {
     "name": "stderr",
     "output_type": "stream",
     "text": [
      "100%|██████████| 996/996 [02:38<00:00,  6.28it/s]\n",
      "100%|██████████| 2/2 [00:00<00:00,  9.08it/s]\n"
     ]
    }
   ],
   "source": [
    "train_ts = load_time_series(\"/kaggle/input/child-mind-institute-problematic-internet-use/series_train.parquet\")\n",
    "test_ts = load_time_series(\"/kaggle/input/child-mind-institute-problematic-internet-use/series_test.parquet\")\n",
    "time_series_cols = train_ts.columns.tolist()\n",
    "time_series_cols.remove(\"id\")"
   ]
  },
  {
   "cell_type": "code",
   "execution_count": 7,
   "id": "8d2ed18e",
   "metadata": {
    "execution": {
     "iopub.execute_input": "2024-12-22T05:01:13.378243Z",
     "iopub.status.busy": "2024-12-22T05:01:13.377502Z",
     "iopub.status.idle": "2024-12-22T05:01:13.395769Z",
     "shell.execute_reply": "2024-12-22T05:01:13.395137Z"
    },
    "papermill": {
     "duration": 0.06213,
     "end_time": "2024-12-22T05:01:13.398257",
     "exception": false,
     "start_time": "2024-12-22T05:01:13.336127",
     "status": "completed"
    },
    "tags": []
   },
   "outputs": [],
   "source": [
    "train = pd.merge(train, train_ts, how=\"left\", on='id')\n",
    "test = pd.merge(test, test_ts, how=\"left\", on='id')"
   ]
  },
  {
   "cell_type": "code",
   "execution_count": 8,
   "id": "dd02c706",
   "metadata": {
    "execution": {
     "iopub.execute_input": "2024-12-22T05:01:13.487200Z",
     "iopub.status.busy": "2024-12-22T05:01:13.486915Z",
     "iopub.status.idle": "2024-12-22T05:01:13.493440Z",
     "shell.execute_reply": "2024-12-22T05:01:13.492689Z"
    },
    "papermill": {
     "duration": 0.052488,
     "end_time": "2024-12-22T05:01:13.495408",
     "exception": false,
     "start_time": "2024-12-22T05:01:13.442920",
     "status": "completed"
    },
    "tags": []
   },
   "outputs": [],
   "source": [
    "train = train.drop('id',axis=1)\n",
    "test = test.drop('id',axis=1)"
   ]
  },
  {
   "cell_type": "markdown",
   "id": "c570c3ef",
   "metadata": {
    "papermill": {
     "duration": 0.040534,
     "end_time": "2024-12-22T05:01:13.579775",
     "exception": false,
     "start_time": "2024-12-22T05:01:13.539241",
     "status": "completed"
    },
    "tags": []
   },
   "source": [
    "### Impute and convert category columns"
   ]
  },
  {
   "cell_type": "code",
   "execution_count": 9,
   "id": "57e64536",
   "metadata": {
    "execution": {
     "iopub.execute_input": "2024-12-22T05:01:13.663914Z",
     "iopub.status.busy": "2024-12-22T05:01:13.663557Z",
     "iopub.status.idle": "2024-12-22T05:01:13.671096Z",
     "shell.execute_reply": "2024-12-22T05:01:13.670402Z"
    },
    "papermill": {
     "duration": 0.052065,
     "end_time": "2024-12-22T05:01:13.672691",
     "exception": false,
     "start_time": "2024-12-22T05:01:13.620626",
     "status": "completed"
    },
    "tags": []
   },
   "outputs": [],
   "source": [
    "feature_cols = list(test.columns)\n",
    "cat_cols = test.select_dtypes(exclude=['number'])\n",
    "\n",
    "train = train[feature_cols + ['sii']]"
   ]
  },
  {
   "cell_type": "code",
   "execution_count": 10,
   "id": "006b7ef0",
   "metadata": {
    "execution": {
     "iopub.execute_input": "2024-12-22T05:01:13.796706Z",
     "iopub.status.busy": "2024-12-22T05:01:13.795930Z",
     "iopub.status.idle": "2024-12-22T05:01:13.831374Z",
     "shell.execute_reply": "2024-12-22T05:01:13.830708Z"
    },
    "papermill": {
     "duration": 0.118296,
     "end_time": "2024-12-22T05:01:13.833028",
     "exception": false,
     "start_time": "2024-12-22T05:01:13.714732",
     "status": "completed"
    },
    "tags": []
   },
   "outputs": [],
   "source": [
    "def convert_cat_cols(df):\n",
    "    for col in cat_cols:\n",
    "        df[col] = df[col].replace({'Spring':1,'Summer':2,\"Fall\":3,\"Winter\":4})\n",
    "        df[col] = df[col].fillna(0)\n",
    "    return df\n",
    "\n",
    "train = convert_cat_cols(train) \n",
    "test = convert_cat_cols(test)"
   ]
  },
  {
   "cell_type": "markdown",
   "id": "6fcd9031",
   "metadata": {
    "papermill": {
     "duration": 0.041244,
     "end_time": "2024-12-22T05:01:13.917789",
     "exception": false,
     "start_time": "2024-12-22T05:01:13.876545",
     "status": "completed"
    },
    "tags": []
   },
   "source": [
    "### Drop rows that miss `sii` values"
   ]
  },
  {
   "cell_type": "code",
   "execution_count": 11,
   "id": "56048bc5",
   "metadata": {
    "execution": {
     "iopub.execute_input": "2024-12-22T05:01:14.008042Z",
     "iopub.status.busy": "2024-12-22T05:01:14.007214Z",
     "iopub.status.idle": "2024-12-22T05:01:14.015913Z",
     "shell.execute_reply": "2024-12-22T05:01:14.015088Z"
    },
    "papermill": {
     "duration": 0.05866,
     "end_time": "2024-12-22T05:01:14.017669",
     "exception": false,
     "start_time": "2024-12-22T05:01:13.959009",
     "status": "completed"
    },
    "tags": []
   },
   "outputs": [
    {
     "data": {
      "text/plain": [
       "((2736, 143), (20, 142))"
      ]
     },
     "execution_count": 11,
     "metadata": {},
     "output_type": "execute_result"
    }
   ],
   "source": [
    "train = train.dropna(subset=['sii'])\n",
    "train.shape, test.shape"
   ]
  },
  {
   "cell_type": "markdown",
   "id": "bbcf13b3",
   "metadata": {
    "papermill": {
     "duration": 0.042285,
     "end_time": "2024-12-22T05:01:14.102449",
     "exception": false,
     "start_time": "2024-12-22T05:01:14.060164",
     "status": "completed"
    },
    "tags": []
   },
   "source": [
    "### Variation 1: Adding features"
   ]
  },
  {
   "cell_type": "code",
   "execution_count": 12,
   "id": "d04a6b62",
   "metadata": {
    "execution": {
     "iopub.execute_input": "2024-12-22T05:01:14.209367Z",
     "iopub.status.busy": "2024-12-22T05:01:14.208680Z",
     "iopub.status.idle": "2024-12-22T05:01:14.217323Z",
     "shell.execute_reply": "2024-12-22T05:01:14.216580Z"
    },
    "papermill": {
     "duration": 0.069139,
     "end_time": "2024-12-22T05:01:14.218833",
     "exception": false,
     "start_time": "2024-12-22T05:01:14.149694",
     "status": "completed"
    },
    "tags": []
   },
   "outputs": [],
   "source": [
    "def feature_engineer(df): \n",
    "    df['Age_BP'] = df['Basic_Demos-Age'] * df['Physical-Systolic_BP'] # Blood pressure trends with age\n",
    "    df['Sex_HR'] = df['Basic_Demos-Sex'] * df['Physical-HeartRate'] # Cardiovascular patterns by sex\n",
    "    df['BMI_Age'] = df['Physical-BMI'] * df['Basic_Demos-Age'] # BMI scaled by age\n",
    "    df['BMI_PAQC'] = df['Physical-BMI'] * df['PAQ_C-PAQ_C_Total'] # Physical activity scaled by body composition\n",
    "    \n",
    "    df['BMI_Internet_Hours'] = df['Physical-BMI'] * df['PreInt_EduHx-computerinternet_hoursday'] # Interaction between BMI and Internet Hours\n",
    "    df['Age_Internet_Hours'] =  df['Basic_Demos-Age'] * df['PreInt_EduHx-computerinternet_hoursday'] # Internet hours scaled by age\n",
    "    df['PAQC_Internet_Hours'] = df['PAQ_C-PAQ_C_Total'] * df['PreInt_EduHx-computerinternet_hoursday'] # Internet hours scaled by physical activity\n",
    "    df['Sleep_Internet_Hours'] = df['SDS-SDS_Total_T'] * df['PreInt_EduHx-computerinternet_hoursday'] # Internet hours scaled by sleep disturbance\n",
    "    df['PAQC_CGAS'] = df['PAQ_C-PAQ_C_Total'] * df['CGAS-CGAS_Score'] # Global assessment vs. physical activity\n",
    "    df['Sleep_CGAS'] = df['SDS-SDS_Total_T'] * df['CGAS-CGAS_Score'] # Global assessment vs. sleep disturbances\n",
    "    \n",
    "    df['BP_HR'] = df['Physical-Systolic_BP'] * df['Physical-HeartRate'] # Cardiovascular health metrics\n",
    "    df['BP_prof'] = df['Physical-Systolic_BP'] * df['Physical-Diastolic_BP'] # Overall blood pressure profile\n",
    "    df['BMR_HR'] = df['BIA-BIA_BMR'] / df['Physical-HeartRate'] # Basal Metabolic Rate scaled by heart rate\n",
    "    df['HR_Sleep'] = df['Physical-HeartRate'] / df['SDS-SDS_Total_T'] # Heart rate vs. sleep disturbances\n",
    "    \n",
    "    df['BFP_BMI'] = df['BIA-BIA_Fat'] / df['BIA-BIA_BMI'] # Body Fat Percentage and BMI ratio\n",
    "    df['FFMI_BFP'] = df['BIA-BIA_FFMI'] / df['BIA-BIA_Fat'] # Fat-Free Mass Index and Body Fat Percentage ratio\n",
    "    df['FMI_BFP'] = df['BIA-BIA_FMI'] / df['BIA-BIA_Fat'] # Fat Mass Index and Body Fat Percentage ratio\n",
    "    df['LST_TBW'] = df['BIA-BIA_LST'] / df['BIA-BIA_TBW'] # Lean Soft Tissue to Total Body Water ratio\n",
    "    df['BFP_BMR'] = df['BIA-BIA_Fat'] * df['BIA-BIA_BMR'] # Body Fat Percentage multiplied by Basal Metabolic Rate\n",
    "    df['BFP_DEE'] = df['BIA-BIA_Fat'] * df['BIA-BIA_DEE'] # Body Fat Percentage multiplied by Daily Energy Expenditure\n",
    "    df['BMR_Weight'] = df['BIA-BIA_BMR'] / df['Physical-Weight'] # Basal Metabolic Rate scaled by weight\n",
    "    df['DEE_Weight'] = df['BIA-BIA_DEE'] / df['Physical-Weight'] # Daily Energy Expenditure scaled by weight\n",
    "    df['SMM_Height'] = df['BIA-BIA_SMM'] / df['Physical-Height'] # Skeletal Muscle Mass scaled by height\n",
    "    df['Muscle_to_Fat'] = df['BIA-BIA_SMM'] / df['BIA-BIA_FMI'] # Muscle-to-Fat Ratio\n",
    "    df['Hydration_Status'] = df['BIA-BIA_TBW'] / df['Physical-Weight'] # Hydration Status\n",
    "    df['ICW_TBW'] = df['BIA-BIA_ICW'] / df['BIA-BIA_TBW'] # Intracellular Water to Total Body Water ratio\n",
    "\n",
    "    return df"
   ]
  },
  {
   "cell_type": "code",
   "execution_count": 13,
   "id": "7b0f9687",
   "metadata": {
    "execution": {
     "iopub.execute_input": "2024-12-22T05:01:14.302547Z",
     "iopub.status.busy": "2024-12-22T05:01:14.302296Z",
     "iopub.status.idle": "2024-12-22T05:01:14.326243Z",
     "shell.execute_reply": "2024-12-22T05:01:14.325502Z"
    },
    "papermill": {
     "duration": 0.068374,
     "end_time": "2024-12-22T05:01:14.327804",
     "exception": false,
     "start_time": "2024-12-22T05:01:14.259430",
     "status": "completed"
    },
    "tags": []
   },
   "outputs": [
    {
     "data": {
      "text/plain": [
       "((2736, 169), (20, 168))"
      ]
     },
     "execution_count": 13,
     "metadata": {},
     "output_type": "execute_result"
    }
   ],
   "source": [
    "train = feature_engineer(train)\n",
    "test = feature_engineer(test)\n",
    "\n",
    "train.shape, test.shape"
   ]
  },
  {
   "cell_type": "markdown",
   "id": "5540985c",
   "metadata": {
    "papermill": {
     "duration": 0.040626,
     "end_time": "2024-12-22T05:01:14.409832",
     "exception": false,
     "start_time": "2024-12-22T05:01:14.369206",
     "status": "completed"
    },
    "tags": []
   },
   "source": [
    "### Variation 2: Perform numerical imputation"
   ]
  },
  {
   "cell_type": "code",
   "execution_count": 14,
   "id": "047ae498",
   "metadata": {
    "execution": {
     "iopub.execute_input": "2024-12-22T05:01:14.494242Z",
     "iopub.status.busy": "2024-12-22T05:01:14.493693Z",
     "iopub.status.idle": "2024-12-22T05:01:21.342391Z",
     "shell.execute_reply": "2024-12-22T05:01:21.341676Z"
    },
    "papermill": {
     "duration": 6.893719,
     "end_time": "2024-12-22T05:01:21.344244",
     "exception": false,
     "start_time": "2024-12-22T05:01:14.450525",
     "status": "completed"
    },
    "tags": []
   },
   "outputs": [],
   "source": [
    "num_cols = test.select_dtypes(include=['float64', 'int64']).columns\n",
    "\n",
    "num_cols \n",
    "from sklearn.impute import KNNImputer\n",
    "imputer = KNNImputer(n_neighbors=3)\n",
    "\n",
    "imputer.fit(train[num_cols])\n",
    "train[num_cols] = imputer.transform(train[num_cols])\n",
    "test[num_cols] = imputer.transform(test[num_cols])"
   ]
  },
  {
   "cell_type": "markdown",
   "id": "281589af",
   "metadata": {
    "papermill": {
     "duration": 0.041959,
     "end_time": "2024-12-22T05:01:21.428113",
     "exception": false,
     "start_time": "2024-12-22T05:01:21.386154",
     "status": "completed"
    },
    "tags": []
   },
   "source": [
    "---\n",
    "## Model"
   ]
  },
  {
   "cell_type": "markdown",
   "id": "756cbbcd",
   "metadata": {
    "papermill": {
     "duration": 0.042543,
     "end_time": "2024-12-22T05:01:21.513335",
     "exception": false,
     "start_time": "2024-12-22T05:01:21.470792",
     "status": "completed"
    },
    "tags": []
   },
   "source": [
    "### Helper Functions (use for evaluation)"
   ]
  },
  {
   "cell_type": "code",
   "execution_count": 15,
   "id": "e4da91ac",
   "metadata": {
    "execution": {
     "iopub.execute_input": "2024-12-22T05:01:21.597409Z",
     "iopub.status.busy": "2024-12-22T05:01:21.596578Z",
     "iopub.status.idle": "2024-12-22T05:01:21.601978Z",
     "shell.execute_reply": "2024-12-22T05:01:21.601110Z"
    },
    "papermill": {
     "duration": 0.048852,
     "end_time": "2024-12-22T05:01:21.603593",
     "exception": false,
     "start_time": "2024-12-22T05:01:21.554741",
     "status": "completed"
    },
    "tags": []
   },
   "outputs": [],
   "source": [
    "## Helper functions\n",
    "def quadratic_weighted_kappa(y_true, y_pred):\n",
    "    return cohen_kappa_score(y_true, y_pred, weights='quadratic')\n",
    "    \n",
    "def threshold_Rounder(oof_non_rounded, thresholds):\n",
    "    return np.where(oof_non_rounded < thresholds[0], 0,\n",
    "                    np.where(oof_non_rounded < thresholds[1], 1,\n",
    "                             np.where(oof_non_rounded < thresholds[2], 2, 3)))\n",
    "\n",
    "def evaluate_predictions(thresholds, y_true, oof_non_rounded):\n",
    "    rounded_p = threshold_Rounder(oof_non_rounded, thresholds)\n",
    "    return -quadratic_weighted_kappa(y_true, rounded_p)"
   ]
  },
  {
   "cell_type": "markdown",
   "id": "8eaacc66",
   "metadata": {
    "papermill": {
     "duration": 0.040299,
     "end_time": "2024-12-22T05:01:21.684302",
     "exception": false,
     "start_time": "2024-12-22T05:01:21.644003",
     "status": "completed"
    },
    "tags": []
   },
   "source": [
    "### Train model and predict result"
   ]
  },
  {
   "cell_type": "code",
   "execution_count": 16,
   "id": "baecb6b2",
   "metadata": {
    "execution": {
     "iopub.execute_input": "2024-12-22T05:01:21.768359Z",
     "iopub.status.busy": "2024-12-22T05:01:21.768087Z",
     "iopub.status.idle": "2024-12-22T05:01:21.776686Z",
     "shell.execute_reply": "2024-12-22T05:01:21.776049Z"
    },
    "papermill": {
     "duration": 0.052127,
     "end_time": "2024-12-22T05:01:21.778168",
     "exception": false,
     "start_time": "2024-12-22T05:01:21.726041",
     "status": "completed"
    },
    "tags": []
   },
   "outputs": [],
   "source": [
    "def fit_and_predict(model_class, test_data):\n",
    "    X = train.drop(['sii'], axis=1)\n",
    "    y = train['sii']\n",
    "    \n",
    "    SKF = StratifiedKFold(n_splits=n_splits, shuffle=True, random_state=SEED)\n",
    "    \n",
    "    train_S = []\n",
    "    test_S = []\n",
    "    \n",
    "    oof_non_rounded = np.zeros(len(y), dtype=float) \n",
    "    oof_rounded = np.zeros(len(y), dtype=int) \n",
    "    test_preds = np.zeros((len(test_data), n_splits))\n",
    "\n",
    "    for fold, (train_idx, test_idx) in enumerate(tqdm(SKF.split(X, y), desc=\"Training Folds\", total=n_splits)):\n",
    "        X_train, X_val = X.iloc[train_idx], X.iloc[test_idx]\n",
    "        y_train, y_val = y.iloc[train_idx], y.iloc[test_idx]\n",
    "        \n",
    "        model = clone(model_class)\n",
    "        model.fit(X_train, y_train)\n",
    "\n",
    "        y_train_pred = model.predict(X_train)\n",
    "        y_val_pred = model.predict(X_val)\n",
    "\n",
    "        oof_non_rounded[test_idx] = y_val_pred\n",
    "        y_val_pred_rounded = y_val_pred.round(0).astype(int)\n",
    "        oof_rounded[test_idx] = y_val_pred_rounded\n",
    "\n",
    "        train_kappa = quadratic_weighted_kappa(y_train, y_train_pred.round(0).astype(int))\n",
    "        val_kappa = quadratic_weighted_kappa(y_val, y_val_pred_rounded)\n",
    "\n",
    "        train_S.append(train_kappa)\n",
    "        test_S.append(val_kappa)\n",
    "        \n",
    "        test_preds[:, fold] = model.predict(test_data)\n",
    "\n",
    "        clear_output(wait=True)\n",
    "        \n",
    "    KappaOPtimizer = minimize(evaluate_predictions,\n",
    "                              x0=[0.5, 1.5, 2.5], args=(y, oof_non_rounded), \n",
    "                              method='Nelder-Mead') \n",
    "    assert KappaOPtimizer.success, \"Optimization did not converge.\"\n",
    "    \n",
    "    oof_tuned = threshold_Rounder(oof_non_rounded, KappaOPtimizer.x)\n",
    "    tKappa = quadratic_weighted_kappa(y, oof_tuned)\n",
    "\n",
    "    tpm = test_preds.mean(axis=1)\n",
    "    tpTuned = threshold_Rounder(tpm, KappaOPtimizer.x)\n",
    "    \n",
    "    submission = pd.DataFrame({\n",
    "        'id': test_ids,\n",
    "        'sii': tpTuned\n",
    "    })\n",
    "\n",
    "    return submission, tKappa"
   ]
  },
  {
   "cell_type": "markdown",
   "id": "9c152c58",
   "metadata": {
    "papermill": {
     "duration": 0.04042,
     "end_time": "2024-12-22T05:01:21.859056",
     "exception": false,
     "start_time": "2024-12-22T05:01:21.818636",
     "status": "completed"
    },
    "tags": []
   },
   "source": [
    "### Tuning hyperparameters"
   ]
  },
  {
   "cell_type": "code",
   "execution_count": 17,
   "id": "efe0bf50",
   "metadata": {
    "execution": {
     "iopub.execute_input": "2024-12-22T05:01:21.941730Z",
     "iopub.status.busy": "2024-12-22T05:01:21.941440Z",
     "iopub.status.idle": "2024-12-22T05:01:21.956580Z",
     "shell.execute_reply": "2024-12-22T05:01:21.955783Z"
    },
    "papermill": {
     "duration": 0.058997,
     "end_time": "2024-12-22T05:01:21.958140",
     "exception": false,
     "start_time": "2024-12-22T05:01:21.899143",
     "status": "completed"
    },
    "tags": []
   },
   "outputs": [],
   "source": [
    "def param_tunning(max_evals,type,train_data,scoring_data):\n",
    "    \n",
    "    from hyperopt import fmin, tpe, hp, Trials, STATUS_OK  \n",
    "    from sklearn.metrics import mean_squared_error  \n",
    "    from sklearn.model_selection import train_test_split  \n",
    "    import xgboost as xgb  \n",
    "\n",
    "\n",
    "    def objective(params):  \n",
    "        learning_rate = params['learning_rate']  \n",
    "        n_estimators = int(params['n_estimators'])  \n",
    "        iterations = int(params['iterations'])  \n",
    "        subsample = params['subsample']  \n",
    "        colsample_bytree = params['colsample_bytree']  \n",
    "        max_depth = int(params['max_depth'])  \n",
    "        l2_leaf_reg=params['l2_leaf_reg']   \n",
    "        random_strength=params['random_strength']   \n",
    "        bagging_temperature=params['bagging_temperature']   \n",
    "        border_count=params['border_count']\n",
    "        reg_alpha=params['reg_alpha']\n",
    "        reg_lambda=params['reg_lambda']\n",
    "        min_child_weight=params['min_child_weight']\n",
    "        min_data_in_leaf = int(params['min_data_in_leaf'])\n",
    "        feature_fraction = params['feature_fraction']\n",
    "        bagging_fraction = params['bagging_fraction']\n",
    "        bagging_freq = int(params['bagging_freq'])\n",
    "        lambda_l1 =params['lambda_l1']\n",
    "        lambda_l2 =params['lambda_l2']\n",
    "        \n",
    "        if type=='LGBM':\n",
    "            Light = lgb.LGBMRegressor(\n",
    "                learning_rate=learning_rate,  \n",
    "                n_estimators=n_estimators, \n",
    "                subsample = subsample,\n",
    "                max_depth=max_depth,\n",
    "                min_data_in_leaf = min_data_in_leaf,\n",
    "                feature_fraction = feature_fraction,\n",
    "                bagging_fraction =bagging_fraction,\n",
    "                bagging_freq =bagging_freq,\n",
    "                lambda_l1 =lambda_l1,\n",
    "                lambda_l2 =lambda_l2,\n",
    "                verbosity=0,\n",
    "                random_state=SEED, \n",
    "                verbose=-1\n",
    "            )    \n",
    "            Submission_XGB, k_lgbm = TrainML(Light,scoring_data)\n",
    "            return {'loss': -k_lgbm, 'status': STATUS_OK}\n",
    "        elif type=='XGB':\n",
    "            XGBoost = xgb.XGBRegressor(  \n",
    "                learning_rate=learning_rate,  \n",
    "                n_estimators=n_estimators,  \n",
    "                subsample=subsample,  \n",
    "                colsample_bytree=colsample_bytree,  \n",
    "                max_depth=max_depth,  \n",
    "                objective='reg:squarederror',  \n",
    "                verbosity=0,  \n",
    "                eval_metric='rmse',  \n",
    "                random_state=SEED,  \n",
    "                enable_categorical=True  \n",
    "            )  \n",
    "            Submission_XGB, k_xgb = TrainML(XGBoost,scoring_data)\n",
    "            return {'loss': -k_xgb, 'status': STATUS_OK}\n",
    "\n",
    "        elif type=='CAT':\n",
    "            CatBoost = CatBoostRegressor(  \n",
    "                learning_rate=learning_rate,  \n",
    "                iterations=iterations,   \n",
    "                max_depth=max_depth,\n",
    "                l2_leaf_reg=l2_leaf_reg,\n",
    "                random_strength=random_strength,\n",
    "                bagging_temperature=bagging_temperature,\n",
    "                border_count=border_count,\n",
    "                random_state=SEED, \n",
    "                verbose=0,\n",
    "                cat_features=cat_c  \n",
    "            )  \n",
    "            Submission_CatBoost , k_cat= TrainML(CatBoost,scoring_data)\n",
    "            return {'loss': -k_cat, 'status': STATUS_OK}\n",
    "\n",
    "\n",
    "    space = {  \n",
    "        'learning_rate': hp.uniform('learning_rate', 0.01, 0.1),\n",
    "        'n_estimators': hp.quniform('n_estimators', 200, 300, 50),  \n",
    "        'iterations': hp.quniform('iterations', 150, 250, 50),  \n",
    "        'min_data_in_leaf': hp.choice('min_data_in_leaf', list(range(10, 21))),  \n",
    "        'lambda_l1': hp.loguniform('lambda_l1', np.log(6), np.log(12)),  \n",
    "        'lambda_l2': hp.loguniform('lambda_l2', np.log(0.01), np.log(0.1)),  \n",
    "        'bagging_fraction': hp.uniform('bagging_fraction', 0.7, 0.9),  \n",
    "        'feature_fraction': hp.uniform('feature_fraction', 0.8, 1.0),  \n",
    "        'bagging_freq': hp.choice('bagging_freq', [4]),\n",
    "        'subsample': hp.uniform('subsample', 0.75, 0.85),  \n",
    "        'colsample_bytree': hp.uniform('colsample_bytree', 0.7, 0.9),  \n",
    "        'max_depth': hp.quniform('max_depth', 6, 12, 1),\n",
    "        'l2_leaf_reg': hp.loguniform('l2_leaf_reg', np.log(5), np.log(15)),  \n",
    "        'random_strength': hp.uniform('random_strength', 0.1, 0.2),\n",
    "        'bagging_temperature': hp.uniform('bagging_temperature', 0.01, 0.1),  \n",
    "        'border_count': hp.quniform('border_count', 128, 255, 1),  \n",
    "        'reg_alpha': hp.uniform('reg_alpha', 0.5, 2),  \n",
    "        'reg_lambda': hp.uniform('reg_lambda', 3, 7),  \n",
    "        'min_child_weight': hp.uniform('min_child_weight', 0.5, 2)\n",
    "    }\n",
    "\n",
    "    trials = Trials()  \n",
    "    \n",
    "    best = fmin(fn=objective,  \n",
    "                space=space,  \n",
    "                algo=tpe.suggest,  \n",
    "                max_evals=max_evals,\n",
    "                trials=trials)  \n",
    "    \n",
    "    best['max_depth'] = int(best['max_depth'])\n",
    "    if type=='CAT':\n",
    "        best['iterations'] = int(best['iterations'])\n",
    "    else:\n",
    "        best['n_estimators'] = int(best['n_estimators'])\n",
    "        \n",
    "    if type=='LGBM':\n",
    "        best_filtered = {k: v for k, v in best.items() if k in ['learning_rate', 'n_estimators','subsample','max_depth', 'min_data_in_leaf','feature_fraction','bagging_fraction','bagging_freq','lambda_l1','lamda_l2']}\n",
    "    elif type=='XGB':\n",
    "        best_filtered = {k: v for k, v in best.items() if k in ['learning_rate', 'n_estimators','subsample', 'colsample_bytree','max_depth','reg_alpha', 'reg_lambda']}\n",
    "    elif type=='CAT':\n",
    "        best_filtered = {k: v for k, v in best.items() if k in ['learning_rate', 'iterations','max_depth','l2_leaf_reg','random_strength','bagging_temperature']}\n",
    "                \n",
    "    print(f\"--->{type} best parameters:{best_filtered}\")\n",
    "    \n",
    "    return best_filtered"
   ]
  },
  {
   "cell_type": "code",
   "execution_count": 18,
   "id": "8c59a203",
   "metadata": {
    "execution": {
     "iopub.execute_input": "2024-12-22T05:01:22.040671Z",
     "iopub.status.busy": "2024-12-22T05:01:22.040012Z",
     "iopub.status.idle": "2024-12-22T05:01:22.043512Z",
     "shell.execute_reply": "2024-12-22T05:01:22.042868Z"
    },
    "papermill": {
     "duration": 0.046261,
     "end_time": "2024-12-22T05:01:22.044972",
     "exception": false,
     "start_time": "2024-12-22T05:01:21.998711",
     "status": "completed"
    },
    "tags": []
   },
   "outputs": [],
   "source": [
    "# best_params_lgbm=param_tunning(max_evals=100,type='LGBM',train_data=train,scoring_data=test)\n",
    "# LGBM_best_parameters = {\n",
    "#     'bagging_fraction': 0.8823877190424483, \n",
    "#     'bagging_freq': 0, \n",
    "#     'feature_fraction': 0.9687818251276876, \n",
    "#     'lambda_l1': 11.083702499316473, \n",
    "#     'learning_rate': 0.015047557793121483, \n",
    "#     'max_depth': 12, 'min_data_in_leaf': 7, \n",
    "#     'n_estimators': 300, \n",
    "#     'subsample': 0.8397302322292359\n",
    "# }"
   ]
  },
  {
   "cell_type": "code",
   "execution_count": 19,
   "id": "5539c7b4",
   "metadata": {
    "execution": {
     "iopub.execute_input": "2024-12-22T05:01:22.128605Z",
     "iopub.status.busy": "2024-12-22T05:01:22.127997Z",
     "iopub.status.idle": "2024-12-22T05:01:22.131423Z",
     "shell.execute_reply": "2024-12-22T05:01:22.130759Z"
    },
    "papermill": {
     "duration": 0.047368,
     "end_time": "2024-12-22T05:01:22.132934",
     "exception": false,
     "start_time": "2024-12-22T05:01:22.085566",
     "status": "completed"
    },
    "tags": []
   },
   "outputs": [],
   "source": [
    "# best_params_xgb=param_tunning(max_evals=100,type='XGB',train_data=train,scoring_data=test)\n",
    "# XGB best parameters:{\n",
    "    # 'colsample_bytree': 0.8824818923210358, \n",
    "    # 'learning_rate': 0.010202971192339372, \n",
    "    # 'max_depth': 6, \n",
    "    # 'n_estimators': 250, \n",
    "    # 'reg_alpha': 1.7453122201668874, \n",
    "    # 'reg_lambda': 5.784871182330073, \n",
    "    # 'subsample': 0.7515130656632484\n",
    "# }"
   ]
  },
  {
   "cell_type": "code",
   "execution_count": 20,
   "id": "5ad0b24b",
   "metadata": {
    "execution": {
     "iopub.execute_input": "2024-12-22T05:01:22.216033Z",
     "iopub.status.busy": "2024-12-22T05:01:22.215767Z",
     "iopub.status.idle": "2024-12-22T05:01:22.219117Z",
     "shell.execute_reply": "2024-12-22T05:01:22.218368Z"
    },
    "papermill": {
     "duration": 0.046668,
     "end_time": "2024-12-22T05:01:22.220587",
     "exception": false,
     "start_time": "2024-12-22T05:01:22.173919",
     "status": "completed"
    },
    "tags": []
   },
   "outputs": [],
   "source": [
    "# best_params_catboost=param_tunning(max_evals=100,type='CAT',train_data=train,scoring_data=test)\n",
    "# CAT best parameters:{\n",
    "#     'bagging_temperature': 0.09868359430137408,\n",
    "#     'iterations': 150,\n",
    "#     'l2_leaf_reg': 13.675035261530743,\n",
    "#     'learning_rate': 0.03609529519492104,\n",
    "#     'max_depth': 6,\n",
    "#     'random_strength': 0.1687460842854431\n",
    "# }"
   ]
  },
  {
   "cell_type": "code",
   "execution_count": 21,
   "id": "5fe11fcb",
   "metadata": {
    "execution": {
     "iopub.execute_input": "2024-12-22T05:01:22.302890Z",
     "iopub.status.busy": "2024-12-22T05:01:22.302335Z",
     "iopub.status.idle": "2024-12-22T05:01:22.307363Z",
     "shell.execute_reply": "2024-12-22T05:01:22.306647Z"
    },
    "papermill": {
     "duration": 0.047806,
     "end_time": "2024-12-22T05:01:22.308895",
     "exception": false,
     "start_time": "2024-12-22T05:01:22.261089",
     "status": "completed"
    },
    "tags": []
   },
   "outputs": [],
   "source": [
    "LGBM_best_parameters = {\n",
    "    'bagging_fraction': 0.8823877190424483, \n",
    "    'bagging_freq': 0, \n",
    "    'feature_fraction': 0.9687818251276876, \n",
    "    'lambda_l1': 11.083702499316473, \n",
    "    'learning_rate': 0.015047557793121483, \n",
    "    'max_depth': 12, 'min_data_in_leaf': 7, \n",
    "    'n_estimators': 300, \n",
    "    'subsample': 0.8397302322292359\n",
    "}\n",
    "XGB_best_parameters={\n",
    "    'colsample_bytree': 0.8824818923210358, \n",
    "    'learning_rate': 0.010202971192339372, \n",
    "    'max_depth': 6, \n",
    "    'n_estimators': 250, \n",
    "    'reg_alpha': 1.7453122201668874, \n",
    "    'reg_lambda': 5.784871182330073, \n",
    "    'subsample': 0.7515130656632484\n",
    "}\n",
    "CAT_best_parameters={\n",
    "    'bagging_temperature': 0.09868359430137408,\n",
    "    'iterations': 150,\n",
    "    'l2_leaf_reg': 13.675035261530743,\n",
    "    'learning_rate': 0.03609529519492104,\n",
    "    'max_depth': 6,\n",
    "    'random_strength': 0.1687460842854431\n",
    "}"
   ]
  },
  {
   "cell_type": "code",
   "execution_count": 22,
   "id": "733395b8",
   "metadata": {
    "execution": {
     "iopub.execute_input": "2024-12-22T05:01:22.390788Z",
     "iopub.status.busy": "2024-12-22T05:01:22.390559Z",
     "iopub.status.idle": "2024-12-22T05:01:22.396769Z",
     "shell.execute_reply": "2024-12-22T05:01:22.396065Z"
    },
    "papermill": {
     "duration": 0.049225,
     "end_time": "2024-12-22T05:01:22.398306",
     "exception": false,
     "start_time": "2024-12-22T05:01:22.349081",
     "status": "completed"
    },
    "tags": []
   },
   "outputs": [],
   "source": [
    "# Create model instances\n",
    "LGBM_Model = LGBMRegressor(**LGBM_best_parameters, random_state=SEED,device= 'cpu')\n",
    "XGB_Model = XGBRegressor(**XGB_best_parameters, tree_method='gpu_hist')\n",
    "CatBoost_Model = CatBoostRegressor(**CAT_best_parameters, task_type = 'GPU')"
   ]
  },
  {
   "cell_type": "code",
   "execution_count": 23,
   "id": "7a86f60e",
   "metadata": {
    "execution": {
     "iopub.execute_input": "2024-12-22T05:01:22.481072Z",
     "iopub.status.busy": "2024-12-22T05:01:22.480435Z",
     "iopub.status.idle": "2024-12-22T05:01:50.623271Z",
     "shell.execute_reply": "2024-12-22T05:01:50.622420Z"
    },
    "papermill": {
     "duration": 28.187656,
     "end_time": "2024-12-22T05:01:50.625993",
     "exception": false,
     "start_time": "2024-12-22T05:01:22.438337",
     "status": "completed"
    },
    "tags": []
   },
   "outputs": [
    {
     "name": "stderr",
     "output_type": "stream",
     "text": [
      "Training Folds: 100%|██████████| 6/6 [00:27<00:00,  4.61s/it]\n"
     ]
    },
    {
     "data": {
      "text/html": [
       "<div>\n",
       "<style scoped>\n",
       "    .dataframe tbody tr th:only-of-type {\n",
       "        vertical-align: middle;\n",
       "    }\n",
       "\n",
       "    .dataframe tbody tr th {\n",
       "        vertical-align: top;\n",
       "    }\n",
       "\n",
       "    .dataframe thead th {\n",
       "        text-align: right;\n",
       "    }\n",
       "</style>\n",
       "<table border=\"1\" class=\"dataframe\">\n",
       "  <thead>\n",
       "    <tr style=\"text-align: right;\">\n",
       "      <th></th>\n",
       "      <th>id</th>\n",
       "      <th>sii</th>\n",
       "    </tr>\n",
       "  </thead>\n",
       "  <tbody>\n",
       "    <tr>\n",
       "      <th>0</th>\n",
       "      <td>00008ff9</td>\n",
       "      <td>0</td>\n",
       "    </tr>\n",
       "    <tr>\n",
       "      <th>1</th>\n",
       "      <td>000fd460</td>\n",
       "      <td>0</td>\n",
       "    </tr>\n",
       "    <tr>\n",
       "      <th>2</th>\n",
       "      <td>00105258</td>\n",
       "      <td>0</td>\n",
       "    </tr>\n",
       "    <tr>\n",
       "      <th>3</th>\n",
       "      <td>00115b9f</td>\n",
       "      <td>0</td>\n",
       "    </tr>\n",
       "    <tr>\n",
       "      <th>4</th>\n",
       "      <td>0016bb22</td>\n",
       "      <td>1</td>\n",
       "    </tr>\n",
       "    <tr>\n",
       "      <th>5</th>\n",
       "      <td>001f3379</td>\n",
       "      <td>1</td>\n",
       "    </tr>\n",
       "    <tr>\n",
       "      <th>6</th>\n",
       "      <td>0038ba98</td>\n",
       "      <td>1</td>\n",
       "    </tr>\n",
       "    <tr>\n",
       "      <th>7</th>\n",
       "      <td>0068a485</td>\n",
       "      <td>0</td>\n",
       "    </tr>\n",
       "    <tr>\n",
       "      <th>8</th>\n",
       "      <td>0069fbed</td>\n",
       "      <td>1</td>\n",
       "    </tr>\n",
       "    <tr>\n",
       "      <th>9</th>\n",
       "      <td>0083e397</td>\n",
       "      <td>1</td>\n",
       "    </tr>\n",
       "    <tr>\n",
       "      <th>10</th>\n",
       "      <td>0087dd65</td>\n",
       "      <td>1</td>\n",
       "    </tr>\n",
       "    <tr>\n",
       "      <th>11</th>\n",
       "      <td>00abe655</td>\n",
       "      <td>1</td>\n",
       "    </tr>\n",
       "    <tr>\n",
       "      <th>12</th>\n",
       "      <td>00ae59c9</td>\n",
       "      <td>1</td>\n",
       "    </tr>\n",
       "    <tr>\n",
       "      <th>13</th>\n",
       "      <td>00af6387</td>\n",
       "      <td>1</td>\n",
       "    </tr>\n",
       "    <tr>\n",
       "      <th>14</th>\n",
       "      <td>00bd4359</td>\n",
       "      <td>1</td>\n",
       "    </tr>\n",
       "    <tr>\n",
       "      <th>15</th>\n",
       "      <td>00c0cd71</td>\n",
       "      <td>1</td>\n",
       "    </tr>\n",
       "    <tr>\n",
       "      <th>16</th>\n",
       "      <td>00d56d4b</td>\n",
       "      <td>0</td>\n",
       "    </tr>\n",
       "    <tr>\n",
       "      <th>17</th>\n",
       "      <td>00d9913d</td>\n",
       "      <td>0</td>\n",
       "    </tr>\n",
       "    <tr>\n",
       "      <th>18</th>\n",
       "      <td>00e6167c</td>\n",
       "      <td>0</td>\n",
       "    </tr>\n",
       "    <tr>\n",
       "      <th>19</th>\n",
       "      <td>00ebc35d</td>\n",
       "      <td>1</td>\n",
       "    </tr>\n",
       "  </tbody>\n",
       "</table>\n",
       "</div>"
      ],
      "text/plain": [
       "          id  sii\n",
       "0   00008ff9    0\n",
       "1   000fd460    0\n",
       "2   00105258    0\n",
       "3   00115b9f    0\n",
       "4   0016bb22    1\n",
       "5   001f3379    1\n",
       "6   0038ba98    1\n",
       "7   0068a485    0\n",
       "8   0069fbed    1\n",
       "9   0083e397    1\n",
       "10  0087dd65    1\n",
       "11  00abe655    1\n",
       "12  00ae59c9    1\n",
       "13  00af6387    1\n",
       "14  00bd4359    1\n",
       "15  00c0cd71    1\n",
       "16  00d56d4b    0\n",
       "17  00d9913d    0\n",
       "18  00e6167c    0\n",
       "19  00ebc35d    1"
      ]
     },
     "execution_count": 23,
     "metadata": {},
     "output_type": "execute_result"
    }
   ],
   "source": [
    "voting_model = VotingRegressor(estimators=[\n",
    "    ('lightgbm', LGBM_Model),\n",
    "    ('xgboost', XGB_Model),\n",
    "    ('catboost', CatBoost_Model)\n",
    "],weights=[6.0,5.0,2.0])\n",
    "\n",
    "sub = fit_and_predict(voting_model, test)[0]\n",
    "\n",
    "sub"
   ]
  },
  {
   "cell_type": "code",
   "execution_count": 24,
   "id": "9e103fe7",
   "metadata": {
    "execution": {
     "iopub.execute_input": "2024-12-22T05:01:50.779032Z",
     "iopub.status.busy": "2024-12-22T05:01:50.778703Z",
     "iopub.status.idle": "2024-12-22T05:01:50.784876Z",
     "shell.execute_reply": "2024-12-22T05:01:50.784277Z"
    },
    "papermill": {
     "duration": 0.070282,
     "end_time": "2024-12-22T05:01:50.786532",
     "exception": false,
     "start_time": "2024-12-22T05:01:50.716250",
     "status": "completed"
    },
    "tags": []
   },
   "outputs": [],
   "source": [
    "sub.to_csv('submission.csv', index=False)"
   ]
  }
 ],
 "metadata": {
  "kaggle": {
   "accelerator": "nvidiaTeslaT4",
   "dataSources": [
    {
     "databundleVersionId": 9643020,
     "sourceId": 81933,
     "sourceType": "competition"
    }
   ],
   "dockerImageVersionId": 30804,
   "isGpuEnabled": true,
   "isInternetEnabled": false,
   "language": "python",
   "sourceType": "notebook"
  },
  "kernelspec": {
   "display_name": "Python 3",
   "language": "python",
   "name": "python3"
  },
  "language_info": {
   "codemirror_mode": {
    "name": "ipython",
    "version": 3
   },
   "file_extension": ".py",
   "mimetype": "text/x-python",
   "name": "python",
   "nbconvert_exporter": "python",
   "pygments_lexer": "ipython3",
   "version": "3.10.14"
  },
  "papermill": {
   "default_parameters": {},
   "duration": 204.927261,
   "end_time": "2024-12-22T05:01:51.547141",
   "environment_variables": {},
   "exception": null,
   "input_path": "__notebook__.ipynb",
   "output_path": "__notebook__.ipynb",
   "parameters": {},
   "start_time": "2024-12-22T04:58:26.619880",
   "version": "2.6.0"
  }
 },
 "nbformat": 4,
 "nbformat_minor": 5
}
